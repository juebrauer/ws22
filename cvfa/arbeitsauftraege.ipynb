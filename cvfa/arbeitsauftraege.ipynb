{
 "cells": [
  {
   "cell_type": "markdown",
   "id": "33b29fec-ba17-4b27-8d8c-e4c3425e4981",
   "metadata": {},
   "source": [
    "bis 12.10.22: A1 - JupyterLab/Python<br>\n",
    "bis 19.10.22: A2 - Anwendungsmöglichkeiten CV für ADAS<br>\n",
    "bis 26.10.22: A3 - Template Matching, Teil1<br>\n",
    "bis 02.11.22: A4 - Template Matching, Teil2<br>   "
   ]
  },
  {
   "cell_type": "markdown",
   "id": "5ae861e8-d382-4c01-b078-10d592e96d6c",
   "metadata": {},
   "source": [
    "# A1 - Arbeitsumgebung einrichten / Erste Schritte in Python"
   ]
  },
  {
   "cell_type": "markdown",
   "id": "cd60e205-d0bd-4d74-9089-e6e508d774c4",
   "metadata": {},
   "source": [
    "## Jupyter-Notebook in der Cloud\n",
    "\n",
    "Versuchen Sie in der Cloud (im Internet) ein Jupyter-Notebook in einer Jupyter-Lab Arbeitsumgebung zu erstellen, in dem Sie einige erste Python-Kenntnisse erlernen.\n",
    "\n",
    "Nutzen Sie hierzu die Online-Dienste:\n",
    "\n",
    "[Google Colab](https://colab.research.google.com/)\n",
    "oder\n",
    "[Jupyter Notebooks von jupyter.org](https://jupyter.org/try)\n",
    "\n",
    "Erstellen Sie hier ein erstes Jupyter-Notebook und arbeiten Sie sich in die Grundlagen von Python ein wenig ein:\n",
    "\n",
    "- wie kann ich eine Ausgabe in Python erzeugen?\n",
    "- was sind Listen?\n",
    "- was sind Dictionaries?\n",
    "- erstellen Sie eine Schleife, die nach und nach einer anfänglich leeren Liste einen zufälligen Wert hinzufügt\n",
    "- schreiben Sie ein Mini-Programm in Python, das vom Benutzer sein Alter in Jahren einliest und das Alter in Tagen umgerechnet ausgibt\n",
    "- wie definiert man in Python eine Funktion?"
   ]
  },
  {
   "cell_type": "markdown",
   "id": "0f6aa16e-9ead-447a-9124-34de3f9cf86d",
   "metadata": {},
   "source": [
    "## Lokale Arbeitsumgebung: Python\n",
    "\n",
    "Installieren Sie einen aktuellen Python3-Interpreter auf Ihrem Computer, erstellen Sie ein erstes kleines Programm `first.py`, das den kompletten Text einer Textdatei ausliest und ausgibt und führen Sie das Programmm mit\n",
    "\n",
    "`python first.py`\n",
    "\n",
    "aus.\n",
    "\n",
    "Installieren Sie mittels des Paketmanagers `pip` die Pakete\n",
    "\n",
    "- Pandas\n",
    "- Matplotlib"
   ]
  },
  {
   "cell_type": "markdown",
   "id": "6660ad51-3e2a-47f8-acf6-c9d72a046a95",
   "metadata": {},
   "source": [
    "## Lokale Arbeitsumgebung: Jupyter-Lab\n",
    "\n",
    "Recherchieren Sie wie Sie Jupyter-Lab auf Ihrem Rechner installieren und starten können."
   ]
  },
  {
   "cell_type": "markdown",
   "id": "6ebcbbaa-987f-4382-a3c9-d7cd0d07719e",
   "metadata": {},
   "source": [
    "# A2 - Beispiele für Anwendungen von Computer Vision im Bereich der Fahrerassistenzsysteme\n",
    "\n",
    "*Lernziel: Einsatzgebiete von Computer Vision im Bereich Fahrerassistenzsysteme kennen.*\n",
    "\n",
    "Recherchieren Sie im Internet: Welche Aufgaben könnten bereits heute von Computer Vision Algorithmen für Fahrerassistenzsysteme übernommen werden?\n",
    "\n",
    "Sammeln Sie hierzu im Rahmen einer kleinen Recherche Beispiele und halten Sie einige Stichworte, Screenshots, Videobeispiele auf Folien als Rechercheergebnis fest.\n",
    "\n",
    "*Zusatzaufgabe: Können Sie vielleicht sogar ein Codebeispiel für eine Bildaufgabe im Bereich Fahrerassistenzsysteme finden, das Sie selber zum Laufen bekommen?*"
   ]
  },
  {
   "cell_type": "markdown",
   "id": "23c1f2a0-761c-45c6-b51c-80f42c536230",
   "metadata": {},
   "source": [
    "# A3 - Template Matching, Teil1\n",
    "\n",
    "*Lernziel: Ein einfaches Verfahren zur Mustererkennung kennenlernen.*\n",
    "\n",
    "- Arbeiten Sie sich in das Thema Template Matching ein. Was ist Template Matching?\n",
    "- Versuchen Sie dann mit Hilfe von Template Matching ein Verkehrszeichen in einem Bild zu finden. Gerne können Sie hierzu nach Python-Codebeispielen zum Template-Matching suchen und leicht verständliche Beispiele auf diese Aufgabe adaptieren.\n",
    "- Denken Sie über Vor- und Nachteile des Template Matchings nach!"
   ]
  },
  {
   "cell_type": "markdown",
   "id": "ccac997e-63f7-4527-8315-867969547a61",
   "metadata": {},
   "source": [
    "# A4 - Template Matching, Teil2\n",
    "\n",
    "*Lernziel: Ein einfaches Verfahren zur Mustererkennung vertiefen.*\n",
    "\n",
    "In der vorherigen Übung haben wir das Template Matching grob kennengelernt. Ziel ist nun das Verfahren noch besser zu verstehen. Versuchen Sie hierzu mindestens zwei der Vergleichsmaße für den Abgleich von Template und Bildausschnitt, die die OpenCV bietet, nachzuvollziehen.\n",
    "\n",
    "Welche Vor- und welche Nachteile haben diese beiden Vergleichsmaße jeweils?"
   ]
  },
  {
   "cell_type": "code",
   "execution_count": null,
   "id": "46a881ff-3104-4224-865d-bceb18fe5b79",
   "metadata": {},
   "outputs": [],
   "source": []
  }
 ],
 "metadata": {
  "kernelspec": {
   "display_name": "Python 3 (ipykernel)",
   "language": "python",
   "name": "python3"
  },
  "language_info": {
   "codemirror_mode": {
    "name": "ipython",
    "version": 3
   },
   "file_extension": ".py",
   "mimetype": "text/x-python",
   "name": "python",
   "nbconvert_exporter": "python",
   "pygments_lexer": "ipython3",
   "version": "3.8.10"
  },
  "toc-autonumbering": true
 },
 "nbformat": 4,
 "nbformat_minor": 5
}
