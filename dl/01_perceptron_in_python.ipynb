{
 "cells": [
  {
   "cell_type": "markdown",
   "id": "463369c6-b673-4c48-8e43-8d1bad670bb7",
   "metadata": {},
   "source": [
    "# Eine Aufgabe und ein Datensatz\n",
    "\n",
    "Klassifikation von Bildern von Zahlen"
   ]
  },
  {
   "cell_type": "code",
   "execution_count": 105,
   "id": "eebe35a8-2dde-485d-9a91-8960b904899b",
   "metadata": {},
   "outputs": [],
   "source": [
    "import tensorflow"
   ]
  },
  {
   "cell_type": "code",
   "execution_count": 106,
   "id": "a97eb8d7-5dd2-4bfd-a333-69ae567d6ca7",
   "metadata": {},
   "outputs": [],
   "source": [
    "#!pip install tensorflow"
   ]
  },
  {
   "cell_type": "code",
   "execution_count": 107,
   "id": "75adfa6a-643d-47d6-8983-be642a77d1eb",
   "metadata": {},
   "outputs": [
    {
     "name": "stdout",
     "output_type": "stream",
     "text": [
      "tensorflow                   2.8.0\n",
      "tensorflow-io-gcs-filesystem 0.25.0\n",
      "Note: you may need to restart the kernel to use updated packages.\n"
     ]
    }
   ],
   "source": [
    "pip list | grep tensorflow"
   ]
  },
  {
   "cell_type": "code",
   "execution_count": 108,
   "id": "63cfdf01-58be-419e-9861-b8a1b7832b20",
   "metadata": {},
   "outputs": [],
   "source": [
    "mnist_dataset = tensorflow.keras.datasets.mnist"
   ]
  },
  {
   "cell_type": "code",
   "execution_count": 109,
   "id": "32fee72d-5a31-4730-b77d-faa3c1079425",
   "metadata": {},
   "outputs": [
    {
     "data": {
      "text/plain": [
       "module"
      ]
     },
     "execution_count": 109,
     "metadata": {},
     "output_type": "execute_result"
    }
   ],
   "source": [
    "type(mnist_dataset)"
   ]
  },
  {
   "cell_type": "code",
   "execution_count": 110,
   "id": "f2533de6-7a8c-47f9-bc85-297cb03d0b4a",
   "metadata": {},
   "outputs": [],
   "source": [
    "(x_train, y_train), (x_test, y_test) = mnist_dataset.load_data()"
   ]
  },
  {
   "cell_type": "code",
   "execution_count": 111,
   "id": "16503be1-0e05-4048-a5ad-d1167c7f10e4",
   "metadata": {},
   "outputs": [
    {
     "data": {
      "text/plain": [
       "numpy.ndarray"
      ]
     },
     "execution_count": 111,
     "metadata": {},
     "output_type": "execute_result"
    }
   ],
   "source": [
    "type(x_train)"
   ]
  },
  {
   "cell_type": "code",
   "execution_count": 112,
   "id": "f9725a9c-9a35-4a26-8b3b-a80bd9b801f9",
   "metadata": {},
   "outputs": [
    {
     "data": {
      "text/plain": [
       "(60000, 28, 28)"
      ]
     },
     "execution_count": 112,
     "metadata": {},
     "output_type": "execute_result"
    }
   ],
   "source": [
    "x_train.shape"
   ]
  },
  {
   "cell_type": "code",
   "execution_count": 113,
   "id": "0b52d33d-0214-4942-989c-2bb286ee292d",
   "metadata": {},
   "outputs": [
    {
     "data": {
      "text/plain": [
       "3"
      ]
     },
     "execution_count": 113,
     "metadata": {},
     "output_type": "execute_result"
    }
   ],
   "source": [
    "x_train.ndim"
   ]
  },
  {
   "cell_type": "code",
   "execution_count": 114,
   "id": "c6fe6d53-3aeb-4dd5-a3ca-78f83d7a6a6e",
   "metadata": {},
   "outputs": [
    {
     "data": {
      "text/plain": [
       "numpy.ndarray"
      ]
     },
     "execution_count": 114,
     "metadata": {},
     "output_type": "execute_result"
    }
   ],
   "source": [
    "type(y_train)"
   ]
  },
  {
   "cell_type": "code",
   "execution_count": 115,
   "id": "a1ac3d91-888d-4062-ac59-019073054aeb",
   "metadata": {},
   "outputs": [
    {
     "data": {
      "text/plain": [
       "(60000,)"
      ]
     },
     "execution_count": 115,
     "metadata": {},
     "output_type": "execute_result"
    }
   ],
   "source": [
    "y_train.shape"
   ]
  },
  {
   "cell_type": "code",
   "execution_count": 116,
   "id": "877feccb-b705-4b41-8d91-cf1709b9e62c",
   "metadata": {},
   "outputs": [
    {
     "data": {
      "text/plain": [
       "(10000, 28, 28)"
      ]
     },
     "execution_count": 116,
     "metadata": {},
     "output_type": "execute_result"
    }
   ],
   "source": [
    "x_test.shape"
   ]
  },
  {
   "cell_type": "code",
   "execution_count": 117,
   "id": "4c96600a-5943-435f-a6f8-055e7e49d8a4",
   "metadata": {},
   "outputs": [
    {
     "data": {
      "text/plain": [
       "(10000,)"
      ]
     },
     "execution_count": 117,
     "metadata": {},
     "output_type": "execute_result"
    }
   ],
   "source": [
    "y_test.shape"
   ]
  },
  {
   "cell_type": "markdown",
   "id": "2f324fa7-d60f-4527-8e4e-bc1683eef2f4",
   "metadata": {},
   "source": [
    "# Visualisieren eines der Testbilder"
   ]
  },
  {
   "cell_type": "code",
   "execution_count": 118,
   "id": "3396b7b3-f3a0-42b8-b1a1-0b277fc9c6d5",
   "metadata": {},
   "outputs": [
    {
     "data": {
      "text/plain": [
       "array([[[0, 0, 0, ..., 0, 0, 0],\n",
       "        [0, 0, 0, ..., 0, 0, 0],\n",
       "        [0, 0, 0, ..., 0, 0, 0],\n",
       "        ...,\n",
       "        [0, 0, 0, ..., 0, 0, 0],\n",
       "        [0, 0, 0, ..., 0, 0, 0],\n",
       "        [0, 0, 0, ..., 0, 0, 0]],\n",
       "\n",
       "       [[0, 0, 0, ..., 0, 0, 0],\n",
       "        [0, 0, 0, ..., 0, 0, 0],\n",
       "        [0, 0, 0, ..., 0, 0, 0],\n",
       "        ...,\n",
       "        [0, 0, 0, ..., 0, 0, 0],\n",
       "        [0, 0, 0, ..., 0, 0, 0],\n",
       "        [0, 0, 0, ..., 0, 0, 0]],\n",
       "\n",
       "       [[0, 0, 0, ..., 0, 0, 0],\n",
       "        [0, 0, 0, ..., 0, 0, 0],\n",
       "        [0, 0, 0, ..., 0, 0, 0],\n",
       "        ...,\n",
       "        [0, 0, 0, ..., 0, 0, 0],\n",
       "        [0, 0, 0, ..., 0, 0, 0],\n",
       "        [0, 0, 0, ..., 0, 0, 0]],\n",
       "\n",
       "       ...,\n",
       "\n",
       "       [[0, 0, 0, ..., 0, 0, 0],\n",
       "        [0, 0, 0, ..., 0, 0, 0],\n",
       "        [0, 0, 0, ..., 0, 0, 0],\n",
       "        ...,\n",
       "        [0, 0, 0, ..., 0, 0, 0],\n",
       "        [0, 0, 0, ..., 0, 0, 0],\n",
       "        [0, 0, 0, ..., 0, 0, 0]],\n",
       "\n",
       "       [[0, 0, 0, ..., 0, 0, 0],\n",
       "        [0, 0, 0, ..., 0, 0, 0],\n",
       "        [0, 0, 0, ..., 0, 0, 0],\n",
       "        ...,\n",
       "        [0, 0, 0, ..., 0, 0, 0],\n",
       "        [0, 0, 0, ..., 0, 0, 0],\n",
       "        [0, 0, 0, ..., 0, 0, 0]],\n",
       "\n",
       "       [[0, 0, 0, ..., 0, 0, 0],\n",
       "        [0, 0, 0, ..., 0, 0, 0],\n",
       "        [0, 0, 0, ..., 0, 0, 0],\n",
       "        ...,\n",
       "        [0, 0, 0, ..., 0, 0, 0],\n",
       "        [0, 0, 0, ..., 0, 0, 0],\n",
       "        [0, 0, 0, ..., 0, 0, 0]]], dtype=uint8)"
      ]
     },
     "execution_count": 118,
     "metadata": {},
     "output_type": "execute_result"
    }
   ],
   "source": [
    "x_train"
   ]
  },
  {
   "cell_type": "code",
   "execution_count": 119,
   "id": "313d18d6-bed3-495b-b5b2-c4859f2312e1",
   "metadata": {},
   "outputs": [],
   "source": [
    "bild = x_train[0,:,:]"
   ]
  },
  {
   "cell_type": "code",
   "execution_count": 120,
   "id": "3a6b6e8f-adfd-478c-994d-3ccb0564e7e5",
   "metadata": {},
   "outputs": [
    {
     "data": {
      "text/plain": [
       "numpy.ndarray"
      ]
     },
     "execution_count": 120,
     "metadata": {},
     "output_type": "execute_result"
    }
   ],
   "source": [
    "type(bild)"
   ]
  },
  {
   "cell_type": "code",
   "execution_count": 121,
   "id": "47ad6c9f-db17-47e1-8041-453fbacaa92d",
   "metadata": {},
   "outputs": [
    {
     "data": {
      "text/plain": [
       "(28, 28)"
      ]
     },
     "execution_count": 121,
     "metadata": {},
     "output_type": "execute_result"
    }
   ],
   "source": [
    "bild.shape"
   ]
  },
  {
   "cell_type": "code",
   "execution_count": 122,
   "id": "c234c65c-8399-4620-a38b-8d3f8370f3cf",
   "metadata": {},
   "outputs": [
    {
     "data": {
      "text/plain": [
       "5"
      ]
     },
     "execution_count": 122,
     "metadata": {},
     "output_type": "execute_result"
    }
   ],
   "source": [
    "y_train[0]"
   ]
  },
  {
   "cell_type": "code",
   "execution_count": 123,
   "id": "f845f3fb-c96c-421c-a38e-9b49d956c2e4",
   "metadata": {},
   "outputs": [],
   "source": [
    "import matplotlib.pyplot as plt"
   ]
  },
  {
   "cell_type": "code",
   "execution_count": 124,
   "id": "dd05f4f3-5d79-453e-a992-f26687047737",
   "metadata": {},
   "outputs": [
    {
     "data": {
      "text/plain": [
       "module"
      ]
     },
     "execution_count": 124,
     "metadata": {},
     "output_type": "execute_result"
    }
   ],
   "source": [
    "type(plt)"
   ]
  },
  {
   "cell_type": "code",
   "execution_count": 125,
   "id": "0d63967a-da46-4a51-9996-22d8505060a0",
   "metadata": {},
   "outputs": [
    {
     "data": {
      "image/png": "[encoded data removed]",
      "text/plain": [
       "<Figure size 432x288 with 2 Axes>"
      ]
     },
     "metadata": {
      "needs_background": "light"
     },
     "output_type": "display_data"
    }
   ],
   "source": [
    "plt.imshow(bild, cmap=\"gray\")\n",
    "plt.colorbar()\n",
    "plt.show()"
   ]
  },
  {
   "cell_type": "code",
   "execution_count": 126,
   "id": "21641646-8f31-4b68-82cd-a70b7556dd46",
   "metadata": {},
   "outputs": [
    {
     "data": {
      "image/png": "[encoded data removed]",
      "text/plain": [
       "<Figure size 432x288 with 2 Axes>"
      ]
     },
     "metadata": {
      "needs_background": "light"
     },
     "output_type": "display_data"
    },
    {
     "data": {
      "image/png": "[encoded data removed]",
      "text/plain": [
       "<Figure size 432x288 with 2 Axes>"
      ]
     },
     "metadata": {
      "needs_background": "light"
     },
     "output_type": "display_data"
    },
    {
     "data": {
      "image/png": "[encoded data removed]",
      "text/plain": [
       "<Figure size 432x288 with 2 Axes>"
      ]
     },
     "metadata": {
      "needs_background": "light"
     },
     "output_type": "display_data"
    },
    {
     "data": {
      "image/png": "[encoded data removed]",
      "text/plain": [
       "<Figure size 432x288 with 2 Axes>"
      ]
     },
     "metadata": {
      "needs_background": "light"
     },
     "output_type": "display_data"
    },
    {
     "data": {
      "image/png": "[encoded data removed]",
      "text/plain": [
       "<Figure size 432x288 with 2 Axes>"
      ]
     },
     "metadata": {
      "needs_background": "light"
     },
     "output_type": "display_data"
    },
    {
     "data": {
      "image/png": "[encoded data removed]",
      "text/plain": [
       "<Figure size 432x288 with 2 Axes>"
      ]
     },
     "metadata": {
      "needs_background": "light"
     },
     "output_type": "display_data"
    },
    {
     "data": {
      "image/png": "[encoded data removed]",
      "text/plain": [
       "<Figure size 432x288 with 2 Axes>"
      ]
     },
     "metadata": {
      "needs_background": "light"
     },
     "output_type": "display_data"
    },
    {
     "data": {
      "image/png": "[encoded data removed]",
      "text/plain": [
       "<Figure size 432x288 with 2 Axes>"
      ]
     },
     "metadata": {
      "needs_background": "light"
     },
     "output_type": "display_data"
    },
    {
     "data": {
      "image/png": "[encoded data removed]",
      "text/plain": [
       "<Figure size 432x288 with 2 Axes>"
      ]
     },
     "metadata": {
      "needs_background": "light"
     },
     "output_type": "display_data"
    },
    {
     "data": {
      "image/png": "[encoded data removed]",
      "text/plain": [
       "<Figure size 432x288 with 2 Axes>"
      ]
     },
     "metadata": {
      "needs_background": "light"
     },
     "output_type": "display_data"
    }
   ],
   "source": [
    "for i in range(0,10):\n",
    "    naechstes_bild = x_train[i,:,:]\n",
    "    plt.imshow(naechstes_bild, cmap=\"gray\")\n",
    "    plt.colorbar()\n",
    "    label = y_train[i]\n",
    "    plt.title( f\"Bild der Zahl {label}\" )\n",
    "    plt.show()"
   ]
  },
  {
   "cell_type": "code",
   "execution_count": 127,
   "id": "563cfa51-3ebb-469a-9fc4-176f7fee3d2a",
   "metadata": {},
   "outputs": [
    {
     "data": {
      "text/plain": [
       "784"
      ]
     },
     "execution_count": 127,
     "metadata": {},
     "output_type": "execute_result"
    }
   ],
   "source": [
    "28*28"
   ]
  },
  {
   "cell_type": "code",
   "execution_count": 128,
   "id": "1d08b76c-d307-4a33-9e6a-0275fe946dbc",
   "metadata": {},
   "outputs": [
    {
     "data": {
      "text/plain": [
       "(28, 28)"
      ]
     },
     "execution_count": 128,
     "metadata": {},
     "output_type": "execute_result"
    }
   ],
   "source": [
    "bild.shape"
   ]
  },
  {
   "cell_type": "code",
   "execution_count": 129,
   "id": "f107caf7-36ab-4e56-b1b0-470bc7cace91",
   "metadata": {},
   "outputs": [
    {
     "data": {
      "text/plain": [
       "784"
      ]
     },
     "execution_count": 129,
     "metadata": {},
     "output_type": "execute_result"
    }
   ],
   "source": [
    "bild.shape[0] * bild.shape[1]"
   ]
  },
  {
   "cell_type": "markdown",
   "id": "85c9914c-c8ce-4de9-8e38-069db6d450b0",
   "metadata": {},
   "source": [
    "# Vorbereitung der Implementierung"
   ]
  },
  {
   "cell_type": "markdown",
   "id": "b938d93b-faa9-424a-8e13-e460c97cd01f",
   "metadata": {},
   "source": [
    "## Erzeugen der Targets"
   ]
  },
  {
   "cell_type": "code",
   "execution_count": 130,
   "id": "17c1c4df-0412-4b7a-be34-e459485fef2c",
   "metadata": {},
   "outputs": [
    {
     "data": {
      "text/plain": [
       "array([5, 0, 4, 1, 9, 2, 1, 3, 1, 4, 3, 5, 3, 6, 1, 7, 2, 8, 6, 9, 4, 0,\n",
       "       9, 1, 1, 2, 4, 3, 2, 7], dtype=uint8)"
      ]
     },
     "execution_count": 130,
     "metadata": {},
     "output_type": "execute_result"
    }
   ],
   "source": [
    "y_train[:30]"
   ]
  },
  {
   "cell_type": "code",
   "execution_count": 131,
   "id": "16d5328c-1080-4152-9061-ef53b87d1059",
   "metadata": {},
   "outputs": [
    {
     "data": {
      "text/plain": [
       "(60000, 1)"
      ]
     },
     "execution_count": 131,
     "metadata": {},
     "output_type": "execute_result"
    }
   ],
   "source": [
    "y_train.reshape(-1,1).shape"
   ]
  },
  {
   "cell_type": "code",
   "execution_count": 132,
   "id": "7cb0e34c-e63a-4678-82c9-ad341bf5167a",
   "metadata": {},
   "outputs": [],
   "source": [
    "from sklearn.preprocessing import OneHotEncoder\n",
    "\n",
    "def one_hot(labels):\n",
    "    enc = OneHotEncoder()\n",
    "    enc.fit( labels.reshape(-1,1) )\n",
    "    one_hot_kodierung = enc.transform(labels.reshape(-1,1)).toarray()\n",
    "    return one_hot_kodierung"
   ]
  },
  {
   "cell_type": "code",
   "execution_count": 133,
   "id": "93b5b133-7518-4ac0-9275-b775a14ce8b7",
   "metadata": {},
   "outputs": [
    {
     "data": {
      "text/plain": [
       "array([[0., 0., 0., ..., 0., 0., 0.],\n",
       "       [1., 0., 0., ..., 0., 0., 0.],\n",
       "       [0., 0., 0., ..., 0., 0., 0.],\n",
       "       ...,\n",
       "       [0., 0., 0., ..., 0., 0., 0.],\n",
       "       [0., 0., 0., ..., 0., 0., 0.],\n",
       "       [0., 0., 0., ..., 0., 1., 0.]])"
      ]
     },
     "execution_count": 133,
     "metadata": {},
     "output_type": "execute_result"
    }
   ],
   "source": [
    "one_hot_kodierung = one_hot(y_train)\n",
    "one_hot_kodierung"
   ]
  },
  {
   "cell_type": "code",
   "execution_count": 134,
   "id": "5a97c803-48f9-459d-bce2-866c5611efee",
   "metadata": {},
   "outputs": [
    {
     "data": {
      "text/plain": [
       "array([[0., 0., 0., 0., 0., 1., 0., 0., 0., 0.],\n",
       "       [1., 0., 0., 0., 0., 0., 0., 0., 0., 0.],\n",
       "       [0., 0., 0., 0., 1., 0., 0., 0., 0., 0.],\n",
       "       [0., 1., 0., 0., 0., 0., 0., 0., 0., 0.],\n",
       "       [0., 0., 0., 0., 0., 0., 0., 0., 0., 1.]])"
      ]
     },
     "execution_count": 134,
     "metadata": {},
     "output_type": "execute_result"
    }
   ],
   "source": [
    "one_hot_kodierung[0:5]"
   ]
  },
  {
   "cell_type": "code",
   "execution_count": 135,
   "id": "9d47fb99-f068-4417-90b2-78b02db0b43c",
   "metadata": {},
   "outputs": [
    {
     "data": {
      "text/plain": [
       "(60000,)"
      ]
     },
     "execution_count": 135,
     "metadata": {},
     "output_type": "execute_result"
    }
   ],
   "source": [
    "y_train.shape"
   ]
  },
  {
   "cell_type": "code",
   "execution_count": 136,
   "id": "ac8a6d71-ed4b-4418-977d-53640856eeea",
   "metadata": {},
   "outputs": [
    {
     "data": {
      "text/plain": [
       "1"
      ]
     },
     "execution_count": 136,
     "metadata": {},
     "output_type": "execute_result"
    }
   ],
   "source": [
    "y_train.ndim"
   ]
  },
  {
   "cell_type": "code",
   "execution_count": 137,
   "id": "971966a0-9cdc-4a6c-8f80-444bea67117d",
   "metadata": {},
   "outputs": [
    {
     "data": {
      "text/plain": [
       "(60000, 10)"
      ]
     },
     "execution_count": 137,
     "metadata": {},
     "output_type": "execute_result"
    }
   ],
   "source": [
    "one_hot_kodierung.shape"
   ]
  },
  {
   "cell_type": "code",
   "execution_count": 138,
   "id": "4117d475-ad36-44a4-9fdd-08f7e583a993",
   "metadata": {},
   "outputs": [
    {
     "data": {
      "text/plain": [
       "2"
      ]
     },
     "execution_count": 138,
     "metadata": {},
     "output_type": "execute_result"
    }
   ],
   "source": [
    "one_hot_kodierung.ndim"
   ]
  },
  {
   "cell_type": "markdown",
   "id": "d186bc03-6de0-464b-b69a-924f6111294f",
   "metadata": {},
   "source": [
    "## Bilder sind 2D Inputs, Perzeptron erwartet 1D Input"
   ]
  },
  {
   "cell_type": "code",
   "execution_count": 139,
   "id": "c6e0c76c-a9fa-41dd-a83d-9c6bb99208d5",
   "metadata": {},
   "outputs": [
    {
     "data": {
      "text/plain": [
       "(28, 28)"
      ]
     },
     "execution_count": 139,
     "metadata": {},
     "output_type": "execute_result"
    }
   ],
   "source": [
    "bild.shape"
   ]
  },
  {
   "cell_type": "code",
   "execution_count": 140,
   "id": "186aacb9-d806-4fff-993f-6bd4dbcee31e",
   "metadata": {},
   "outputs": [
    {
     "data": {
      "text/plain": [
       "2"
      ]
     },
     "execution_count": 140,
     "metadata": {},
     "output_type": "execute_result"
    }
   ],
   "source": [
    "bild.ndim"
   ]
  },
  {
   "cell_type": "code",
   "execution_count": 141,
   "id": "9950c012-137b-4b20-8936-dac16d927be8",
   "metadata": {},
   "outputs": [
    {
     "data": {
      "text/plain": [
       "(784,)"
      ]
     },
     "execution_count": 141,
     "metadata": {},
     "output_type": "execute_result"
    }
   ],
   "source": [
    "bild.flatten().shape"
   ]
  },
  {
   "cell_type": "code",
   "execution_count": 142,
   "id": "3be0f353-3464-4ff5-a700-145e38c59a16",
   "metadata": {},
   "outputs": [
    {
     "data": {
      "text/plain": [
       "array([  0,   0,   0,   0,   0,   0,   0,   0,   0,   0,   0,   0,   0,\n",
       "         0,   0,   0,   0,   0,   0,   0,   0,   0,   0,   0,   0,   0,\n",
       "         0,   0,   0,   0,   0,   0,   0,   0,   0,   0,   0,   0,   0,\n",
       "         0,   0,   0,   0,   0,   0,   0,   0,   0,   0,   0,   0,   0,\n",
       "         0,   0,   0,   0,   0,   0,   0,   0,   0,   0,   0,   0,   0,\n",
       "         0,   0,   0,   0,   0,   0,   0,   0,   0,   0,   0,   0,   0,\n",
       "         0,   0,   0,   0,   0,   0,   0,   0,   0,   0,   0,   0,   0,\n",
       "         0,   0,   0,   0,   0,   0,   0,   0,   0,   0,   0,   0,   0,\n",
       "         0,   0,   0,   0,   0,   0,   0,   0,   0,   0,   0,   0,   0,\n",
       "         0,   0,   0,   0,   0,   0,   0,   0,   0,   0,   0,   0,   0,\n",
       "         0,   0,   0,   0,   0,   0,   0,   0,   0,   0,   0,   0,   0,\n",
       "         0,   0,   0,   0,   0,   0,   0,   0,   0,   3,  18,  18,  18,\n",
       "       126, 136, 175,  26, 166, 255, 247, 127,   0,   0,   0,   0,   0,\n",
       "         0,   0,   0,   0,   0,   0,   0,  30,  36,  94, 154, 170, 253,\n",
       "       253, 253, 253, 253, 225, 172, 253, 242, 195,  64,   0,   0,   0,\n",
       "         0,   0,   0,   0,   0,   0,   0,   0,  49, 238, 253, 253, 253,\n",
       "       253, 253, 253, 253, 253, 251,  93,  82,  82,  56,  39,   0,   0,\n",
       "         0,   0,   0,   0,   0,   0,   0,   0,   0,   0,  18, 219, 253,\n",
       "       253, 253, 253, 253, 198, 182, 247, 241,   0,   0,   0,   0,   0,\n",
       "         0,   0,   0,   0,   0,   0,   0,   0,   0,   0,   0,   0,   0,\n",
       "        80, 156, 107, 253, 253, 205,  11,   0,  43, 154,   0,   0,   0,\n",
       "         0,   0,   0,   0,   0,   0,   0,   0,   0,   0,   0,   0,   0,\n",
       "         0,   0,   0,  14,   1, 154, 253,  90,   0,   0,   0,   0,   0,\n",
       "         0,   0,   0,   0,   0,   0,   0,   0,   0,   0,   0,   0,   0,\n",
       "         0,   0,   0,   0,   0,   0,   0, 139, 253, 190,   2,   0,   0,\n",
       "         0,   0,   0,   0,   0,   0,   0,   0,   0,   0,   0,   0,   0,\n",
       "         0,   0,   0,   0,   0,   0,   0,   0,   0,  11, 190, 253,  70,\n",
       "         0,   0,   0,   0,   0,   0,   0,   0,   0,   0,   0,   0,   0,\n",
       "         0,   0,   0,   0,   0,   0,   0,   0,   0,   0,   0,   0,  35,\n",
       "       241, 225, 160, 108,   1,   0,   0,   0,   0,   0,   0,   0,   0,\n",
       "         0,   0,   0,   0,   0,   0,   0,   0,   0,   0,   0,   0,   0,\n",
       "         0,   0,  81, 240, 253, 253, 119,  25,   0,   0,   0,   0,   0,\n",
       "         0,   0,   0,   0,   0,   0,   0,   0,   0,   0,   0,   0,   0,\n",
       "         0,   0,   0,   0,   0,  45, 186, 253, 253, 150,  27,   0,   0,\n",
       "         0,   0,   0,   0,   0,   0,   0,   0,   0,   0,   0,   0,   0,\n",
       "         0,   0,   0,   0,   0,   0,   0,   0,  16,  93, 252, 253, 187,\n",
       "         0,   0,   0,   0,   0,   0,   0,   0,   0,   0,   0,   0,   0,\n",
       "         0,   0,   0,   0,   0,   0,   0,   0,   0,   0,   0,   0, 249,\n",
       "       253, 249,  64,   0,   0,   0,   0,   0,   0,   0,   0,   0,   0,\n",
       "         0,   0,   0,   0,   0,   0,   0,   0,   0,   0,   0,  46, 130,\n",
       "       183, 253, 253, 207,   2,   0,   0,   0,   0,   0,   0,   0,   0,\n",
       "         0,   0,   0,   0,   0,   0,   0,   0,   0,   0,   0,  39, 148,\n",
       "       229, 253, 253, 253, 250, 182,   0,   0,   0,   0,   0,   0,   0,\n",
       "         0,   0,   0,   0,   0,   0,   0,   0,   0,   0,   0,  24, 114,\n",
       "       221, 253, 253, 253, 253, 201,  78,   0,   0,   0,   0,   0,   0,\n",
       "         0,   0,   0,   0,   0,   0,   0,   0,   0,   0,   0,  23,  66,\n",
       "       213, 253, 253, 253, 253, 198,  81,   2,   0,   0,   0,   0,   0,\n",
       "         0,   0,   0,   0,   0,   0,   0,   0,   0,   0,   0,  18, 171,\n",
       "       219, 253, 253, 253, 253, 195,  80,   9,   0,   0,   0,   0,   0,\n",
       "         0,   0,   0,   0,   0,   0,   0,   0,   0,   0,   0,  55, 172,\n",
       "       226, 253, 253, 253, 253, 244, 133,  11,   0,   0,   0,   0,   0,\n",
       "         0,   0,   0,   0,   0,   0,   0,   0,   0,   0,   0,   0,   0,\n",
       "       136, 253, 253, 253, 212, 135, 132,  16,   0,   0,   0,   0,   0,\n",
       "         0,   0,   0,   0,   0,   0,   0,   0,   0,   0,   0,   0,   0,\n",
       "         0,   0,   0,   0,   0,   0,   0,   0,   0,   0,   0,   0,   0,\n",
       "         0,   0,   0,   0,   0,   0,   0,   0,   0,   0,   0,   0,   0,\n",
       "         0,   0,   0,   0,   0,   0,   0,   0,   0,   0,   0,   0,   0,\n",
       "         0,   0,   0,   0,   0,   0,   0,   0,   0,   0,   0,   0,   0,\n",
       "         0,   0,   0,   0,   0,   0,   0,   0,   0,   0,   0,   0,   0,\n",
       "         0,   0,   0,   0,   0,   0,   0,   0,   0,   0,   0,   0,   0,\n",
       "         0,   0,   0,   0], dtype=uint8)"
      ]
     },
     "execution_count": 142,
     "metadata": {},
     "output_type": "execute_result"
    }
   ],
   "source": [
    "v = bild.reshape(-1)\n",
    "v"
   ]
  },
  {
   "cell_type": "code",
   "execution_count": 143,
   "id": "e4b9608f-5703-4d9b-b7bd-cc1a565e7c99",
   "metadata": {},
   "outputs": [
    {
     "data": {
      "text/plain": [
       "(784,)"
      ]
     },
     "execution_count": 143,
     "metadata": {},
     "output_type": "execute_result"
    }
   ],
   "source": [
    "v.shape"
   ]
  },
  {
   "cell_type": "code",
   "execution_count": 144,
   "id": "85c8e7c6-1f0d-4ed0-9f24-56b583dc84eb",
   "metadata": {},
   "outputs": [
    {
     "data": {
      "text/plain": [
       "1"
      ]
     },
     "execution_count": 144,
     "metadata": {},
     "output_type": "execute_result"
    }
   ],
   "source": [
    "v.ndim"
   ]
  },
  {
   "cell_type": "code",
   "execution_count": 145,
   "id": "ed84b650-f495-4213-abb1-a605e87b83d9",
   "metadata": {},
   "outputs": [],
   "source": [
    "import numpy as np\n",
    "v_mit_bias_input = np.append(v, [1])"
   ]
  },
  {
   "cell_type": "code",
   "execution_count": 146,
   "id": "44492475-cd72-4ceb-85b3-3ffed79582ec",
   "metadata": {},
   "outputs": [
    {
     "data": {
      "text/plain": [
       "array([  0,   0,   0,   0,   0,   0,   0,   0,   0,   0,   0,   0,   0,\n",
       "         0,   0,   0,   0,   0,   0,   0,   0,   0,   0,   0,   0,   0,\n",
       "         0,   0,   0,   0,   0,   0,   0,   0,   0,   0,   0,   0,   0,\n",
       "         0,   0,   0,   0,   0,   0,   0,   0,   0,   0,   0,   0,   0,\n",
       "         0,   0,   0,   0,   0,   0,   0,   0,   0,   0,   0,   0,   0,\n",
       "         0,   0,   0,   0,   0,   0,   0,   0,   0,   0,   0,   0,   0,\n",
       "         0,   0,   0,   0,   0,   0,   0,   0,   0,   0,   0,   0,   0,\n",
       "         0,   0,   0,   0,   0,   0,   0,   0,   0,   0,   0,   0,   0,\n",
       "         0,   0,   0,   0,   0,   0,   0,   0,   0,   0,   0,   0,   0,\n",
       "         0,   0,   0,   0,   0,   0,   0,   0,   0,   0,   0,   0,   0,\n",
       "         0,   0,   0,   0,   0,   0,   0,   0,   0,   0,   0,   0,   0,\n",
       "         0,   0,   0,   0,   0,   0,   0,   0,   0,   3,  18,  18,  18,\n",
       "       126, 136, 175,  26, 166, 255, 247, 127,   0,   0,   0,   0,   0,\n",
       "         0,   0,   0,   0,   0,   0,   0,  30,  36,  94, 154, 170, 253,\n",
       "       253, 253, 253, 253, 225, 172, 253, 242, 195,  64,   0,   0,   0,\n",
       "         0,   0,   0,   0,   0,   0,   0,   0,  49, 238, 253, 253, 253,\n",
       "       253, 253, 253, 253, 253, 251,  93,  82,  82,  56,  39,   0,   0,\n",
       "         0,   0,   0,   0,   0,   0,   0,   0,   0,   0,  18, 219, 253,\n",
       "       253, 253, 253, 253, 198, 182, 247, 241,   0,   0,   0,   0,   0,\n",
       "         0,   0,   0,   0,   0,   0,   0,   0,   0,   0,   0,   0,   0,\n",
       "        80, 156, 107, 253, 253, 205,  11,   0,  43, 154,   0,   0,   0,\n",
       "         0,   0,   0,   0,   0,   0,   0,   0,   0,   0,   0,   0,   0,\n",
       "         0,   0,   0,  14,   1, 154, 253,  90,   0,   0,   0,   0,   0,\n",
       "         0,   0,   0,   0,   0,   0,   0,   0,   0,   0,   0,   0,   0,\n",
       "         0,   0,   0,   0,   0,   0,   0, 139, 253, 190,   2,   0,   0,\n",
       "         0,   0,   0,   0,   0,   0,   0,   0,   0,   0,   0,   0,   0,\n",
       "         0,   0,   0,   0,   0,   0,   0,   0,   0,  11, 190, 253,  70,\n",
       "         0,   0,   0,   0,   0,   0,   0,   0,   0,   0,   0,   0,   0,\n",
       "         0,   0,   0,   0,   0,   0,   0,   0,   0,   0,   0,   0,  35,\n",
       "       241, 225, 160, 108,   1,   0,   0,   0,   0,   0,   0,   0,   0,\n",
       "         0,   0,   0,   0,   0,   0,   0,   0,   0,   0,   0,   0,   0,\n",
       "         0,   0,  81, 240, 253, 253, 119,  25,   0,   0,   0,   0,   0,\n",
       "         0,   0,   0,   0,   0,   0,   0,   0,   0,   0,   0,   0,   0,\n",
       "         0,   0,   0,   0,   0,  45, 186, 253, 253, 150,  27,   0,   0,\n",
       "         0,   0,   0,   0,   0,   0,   0,   0,   0,   0,   0,   0,   0,\n",
       "         0,   0,   0,   0,   0,   0,   0,   0,  16,  93, 252, 253, 187,\n",
       "         0,   0,   0,   0,   0,   0,   0,   0,   0,   0,   0,   0,   0,\n",
       "         0,   0,   0,   0,   0,   0,   0,   0,   0,   0,   0,   0, 249,\n",
       "       253, 249,  64,   0,   0,   0,   0,   0,   0,   0,   0,   0,   0,\n",
       "         0,   0,   0,   0,   0,   0,   0,   0,   0,   0,   0,  46, 130,\n",
       "       183, 253, 253, 207,   2,   0,   0,   0,   0,   0,   0,   0,   0,\n",
       "         0,   0,   0,   0,   0,   0,   0,   0,   0,   0,   0,  39, 148,\n",
       "       229, 253, 253, 253, 250, 182,   0,   0,   0,   0,   0,   0,   0,\n",
       "         0,   0,   0,   0,   0,   0,   0,   0,   0,   0,   0,  24, 114,\n",
       "       221, 253, 253, 253, 253, 201,  78,   0,   0,   0,   0,   0,   0,\n",
       "         0,   0,   0,   0,   0,   0,   0,   0,   0,   0,   0,  23,  66,\n",
       "       213, 253, 253, 253, 253, 198,  81,   2,   0,   0,   0,   0,   0,\n",
       "         0,   0,   0,   0,   0,   0,   0,   0,   0,   0,   0,  18, 171,\n",
       "       219, 253, 253, 253, 253, 195,  80,   9,   0,   0,   0,   0,   0,\n",
       "         0,   0,   0,   0,   0,   0,   0,   0,   0,   0,   0,  55, 172,\n",
       "       226, 253, 253, 253, 253, 244, 133,  11,   0,   0,   0,   0,   0,\n",
       "         0,   0,   0,   0,   0,   0,   0,   0,   0,   0,   0,   0,   0,\n",
       "       136, 253, 253, 253, 212, 135, 132,  16,   0,   0,   0,   0,   0,\n",
       "         0,   0,   0,   0,   0,   0,   0,   0,   0,   0,   0,   0,   0,\n",
       "         0,   0,   0,   0,   0,   0,   0,   0,   0,   0,   0,   0,   0,\n",
       "         0,   0,   0,   0,   0,   0,   0,   0,   0,   0,   0,   0,   0,\n",
       "         0,   0,   0,   0,   0,   0,   0,   0,   0,   0,   0,   0,   0,\n",
       "         0,   0,   0,   0,   0,   0,   0,   0,   0,   0,   0,   0,   0,\n",
       "         0,   0,   0,   0,   0,   0,   0,   0,   0,   0,   0,   0,   0,\n",
       "         0,   0,   0,   0,   0,   0,   0,   0,   0,   0,   0,   0,   0,\n",
       "         0,   0,   0,   0,   1])"
      ]
     },
     "execution_count": 146,
     "metadata": {},
     "output_type": "execute_result"
    }
   ],
   "source": [
    "v_mit_bias_input"
   ]
  },
  {
   "cell_type": "markdown",
   "id": "ed6c2ef6-488a-4f55-92e1-90201eaeda86",
   "metadata": {},
   "source": [
    "## Erzeugen einer Gewichtsmatrix"
   ]
  },
  {
   "cell_type": "code",
   "execution_count": 147,
   "id": "f552be09-6f04-4107-a49d-430dc8faff45",
   "metadata": {},
   "outputs": [
    {
     "data": {
      "text/plain": [
       "(28, 28)"
      ]
     },
     "execution_count": 147,
     "metadata": {},
     "output_type": "execute_result"
    }
   ],
   "source": [
    "bild.shape"
   ]
  },
  {
   "cell_type": "code",
   "execution_count": 148,
   "id": "0090ec0b-3501-4287-8807-e133a5e4dad8",
   "metadata": {},
   "outputs": [
    {
     "data": {
      "text/plain": [
       "784"
      ]
     },
     "execution_count": 148,
     "metadata": {},
     "output_type": "execute_result"
    }
   ],
   "source": [
    "bild.size"
   ]
  },
  {
   "cell_type": "code",
   "execution_count": 149,
   "id": "a4d1cbcf-cd74-474a-8bd2-2ba464a8ffa1",
   "metadata": {},
   "outputs": [
    {
     "data": {
      "text/plain": [
       "785"
      ]
     },
     "execution_count": 149,
     "metadata": {},
     "output_type": "execute_result"
    }
   ],
   "source": [
    "nr_inputs = bild.size + 1\n",
    "nr_inputs"
   ]
  },
  {
   "cell_type": "code",
   "execution_count": 150,
   "id": "d5327bf4-6d9e-4a71-8ce5-1f7d44c36908",
   "metadata": {},
   "outputs": [
    {
     "data": {
      "text/plain": [
       "array([0, 1, 2, 3, 4, 5, 6, 7, 8, 9], dtype=uint8)"
      ]
     },
     "execution_count": 150,
     "metadata": {},
     "output_type": "execute_result"
    }
   ],
   "source": [
    "np.unique(y_train)"
   ]
  },
  {
   "cell_type": "code",
   "execution_count": 151,
   "id": "c870fba2-2280-4772-a69c-5406f8f0718d",
   "metadata": {},
   "outputs": [
    {
     "data": {
      "text/plain": [
       "10"
      ]
     },
     "execution_count": 151,
     "metadata": {},
     "output_type": "execute_result"
    }
   ],
   "source": [
    "nr_outputs = len(np.unique(y_train))\n",
    "nr_outputs"
   ]
  },
  {
   "cell_type": "code",
   "execution_count": 152,
   "id": "56e3ca16-0cbf-4d51-a70c-56704da55b5f",
   "metadata": {},
   "outputs": [],
   "source": [
    "low = -0.1\n",
    "high = +0.1\n",
    "W = np.random.uniform(low, high, (nr_inputs, nr_outputs) )"
   ]
  },
  {
   "cell_type": "code",
   "execution_count": 153,
   "id": "b3d6e3e8-a636-47de-837e-43aeb9423412",
   "metadata": {},
   "outputs": [
    {
     "data": {
      "text/plain": [
       "(785, 10)"
      ]
     },
     "execution_count": 153,
     "metadata": {},
     "output_type": "execute_result"
    }
   ],
   "source": [
    "W.shape"
   ]
  },
  {
   "cell_type": "code",
   "execution_count": 154,
   "id": "fe2bca73-96bd-41ea-a95d-cd9191d2c24b",
   "metadata": {},
   "outputs": [
    {
     "data": {
      "text/plain": [
       "array([[ 0.07116762, -0.01696371,  0.01994416, ...,  0.05277867,\n",
       "         0.08084821, -0.00796431],\n",
       "       [-0.09458967,  0.09205422,  0.00869284, ...,  0.05862041,\n",
       "         0.06834706, -0.07731298],\n",
       "       [-0.0652518 ,  0.04801498, -0.00772148, ..., -0.05338972,\n",
       "        -0.07615182,  0.06651714],\n",
       "       ...,\n",
       "       [ 0.07150218, -0.02543961, -0.0431424 , ..., -0.09093637,\n",
       "        -0.0112344 ,  0.03128632],\n",
       "       [ 0.04564774, -0.04379423,  0.0315928 , ...,  0.08665995,\n",
       "        -0.05803166, -0.06424712],\n",
       "       [ 0.09906576,  0.07201449, -0.05628267, ..., -0.03928699,\n",
       "        -0.01086243, -0.05033143]])"
      ]
     },
     "execution_count": 154,
     "metadata": {},
     "output_type": "execute_result"
    }
   ],
   "source": [
    "W"
   ]
  },
  {
   "cell_type": "markdown",
   "id": "4ad9fc95-e5f2-42b2-b65b-e0ee252bc1b2",
   "metadata": {},
   "source": [
    "## Berechnung des Aktivierungsvektors"
   ]
  },
  {
   "cell_type": "code",
   "execution_count": 155,
   "id": "90260c93-fdbe-454d-a809-edba63dcc1bd",
   "metadata": {},
   "outputs": [
    {
     "data": {
      "text/plain": [
       "array([[1, 2, 3],\n",
       "       [4, 5, 6],\n",
       "       [7, 8, 9]])"
      ]
     },
     "execution_count": 155,
     "metadata": {},
     "output_type": "execute_result"
    }
   ],
   "source": [
    "A = np.arange(1,10).reshape(3,3)\n",
    "A"
   ]
  },
  {
   "cell_type": "code",
   "execution_count": 156,
   "id": "59f0d28c-e178-4563-8482-26cec64e84e3",
   "metadata": {},
   "outputs": [
    {
     "data": {
      "text/plain": [
       "array([[1, 2, 3],\n",
       "       [4, 5, 6],\n",
       "       [7, 8, 9]])"
      ]
     },
     "execution_count": 156,
     "metadata": {},
     "output_type": "execute_result"
    }
   ],
   "source": [
    "B = A.copy()\n",
    "B"
   ]
  },
  {
   "cell_type": "code",
   "execution_count": 157,
   "id": "a78dea4b-8599-495d-9fe8-2314671079fc",
   "metadata": {},
   "outputs": [
    {
     "data": {
      "text/plain": [
       "140462222598576"
      ]
     },
     "execution_count": 157,
     "metadata": {},
     "output_type": "execute_result"
    }
   ],
   "source": [
    "id(A)"
   ]
  },
  {
   "cell_type": "code",
   "execution_count": 158,
   "id": "dcad1686-10b2-4c85-bfb1-7ed9d6f9571a",
   "metadata": {},
   "outputs": [
    {
     "data": {
      "text/plain": [
       "140462222599248"
      ]
     },
     "execution_count": 158,
     "metadata": {},
     "output_type": "execute_result"
    }
   ],
   "source": [
    "id(B)"
   ]
  },
  {
   "cell_type": "code",
   "execution_count": 159,
   "id": "85ce969c-284b-402d-9246-1b69d308e18d",
   "metadata": {},
   "outputs": [
    {
     "data": {
      "text/plain": [
       "array([[ 1,  4,  9],\n",
       "       [16, 25, 36],\n",
       "       [49, 64, 81]])"
      ]
     },
     "execution_count": 159,
     "metadata": {},
     "output_type": "execute_result"
    }
   ],
   "source": [
    "C = A * B\n",
    "C"
   ]
  },
  {
   "cell_type": "code",
   "execution_count": 160,
   "id": "506a57b7-2dc3-47e3-9f55-9e25a5c4dd5a",
   "metadata": {},
   "outputs": [
    {
     "data": {
      "text/plain": [
       "30"
      ]
     },
     "execution_count": 160,
     "metadata": {},
     "output_type": "execute_result"
    }
   ],
   "source": [
    "1*1 + 2*4 + 3*7"
   ]
  },
  {
   "cell_type": "code",
   "execution_count": 161,
   "id": "1a1ad542-63da-4cc7-afa9-684f05271658",
   "metadata": {},
   "outputs": [
    {
     "data": {
      "text/plain": [
       "array([[ 30,  36,  42],\n",
       "       [ 66,  81,  96],\n",
       "       [102, 126, 150]])"
      ]
     },
     "execution_count": 161,
     "metadata": {},
     "output_type": "execute_result"
    }
   ],
   "source": [
    "np.matmul(A,B)"
   ]
  },
  {
   "cell_type": "code",
   "execution_count": 162,
   "id": "40f132d9-4382-4840-a4bd-379f306bf218",
   "metadata": {},
   "outputs": [
    {
     "data": {
      "text/plain": [
       "array([[ 30,  36,  42],\n",
       "       [ 66,  81,  96],\n",
       "       [102, 126, 150]])"
      ]
     },
     "execution_count": 162,
     "metadata": {},
     "output_type": "execute_result"
    }
   ],
   "source": [
    "A @ B"
   ]
  },
  {
   "cell_type": "code",
   "execution_count": 163,
   "id": "d8d8152c-cc34-4613-a7ec-806b5c10f3ee",
   "metadata": {},
   "outputs": [
    {
     "data": {
      "text/plain": [
       "(1, 785)"
      ]
     },
     "execution_count": 163,
     "metadata": {},
     "output_type": "execute_result"
    }
   ],
   "source": [
    "inp_matrix = v_mit_bias_input.reshape(1,785)\n",
    "inp_matrix.shape"
   ]
  },
  {
   "cell_type": "code",
   "execution_count": 164,
   "id": "07d63bb7-1ee4-41e8-b3ac-cb18c34314c0",
   "metadata": {},
   "outputs": [
    {
     "data": {
      "text/plain": [
       "array([[ 103.44002725,   17.40763833,   -2.0052063 ,  -45.87539725,\n",
       "        -134.23944749,  130.99265122,  -54.54481634,  123.04904433,\n",
       "          -1.65356592, -178.07966204]])"
      ]
     },
     "execution_count": 164,
     "metadata": {},
     "output_type": "execute_result"
    }
   ],
   "source": [
    "act_matrix = inp_matrix @ W\n",
    "act_matrix"
   ]
  },
  {
   "cell_type": "code",
   "execution_count": 165,
   "id": "572a832b-1e40-4da6-b8e7-79cd90079495",
   "metadata": {},
   "outputs": [
    {
     "data": {
      "text/plain": [
       "(1, 10)"
      ]
     },
     "execution_count": 165,
     "metadata": {},
     "output_type": "execute_result"
    }
   ],
   "source": [
    "act_matrix.shape"
   ]
  },
  {
   "cell_type": "markdown",
   "id": "6ca3a0ec-3722-4e6c-affe-7f5d6ba28727",
   "metadata": {},
   "source": [
    "## Berechnung des Outputvektors"
   ]
  },
  {
   "cell_type": "code",
   "execution_count": 166,
   "id": "71ff5d6b-6ade-4043-905f-50cf57687275",
   "metadata": {},
   "outputs": [],
   "source": [
    "def RELU(act):\n",
    "    if act < 0:\n",
    "        return 0\n",
    "    else:\n",
    "        return act\n",
    "    \n",
    "RELUvec = np.vectorize(RELU, otypes=[float])"
   ]
  },
  {
   "cell_type": "code",
   "execution_count": 167,
   "id": "c9ebfd6d-2006-4f9e-b124-1e3414c5af7a",
   "metadata": {},
   "outputs": [
    {
     "data": {
      "text/plain": [
       "function"
      ]
     },
     "execution_count": 167,
     "metadata": {},
     "output_type": "execute_result"
    }
   ],
   "source": [
    "type(RELU)"
   ]
  },
  {
   "cell_type": "code",
   "execution_count": 168,
   "id": "b128d1eb-8f37-4490-bc6d-95c6e895a1c4",
   "metadata": {},
   "outputs": [
    {
     "data": {
      "text/plain": [
       "numpy.vectorize"
      ]
     },
     "execution_count": 168,
     "metadata": {},
     "output_type": "execute_result"
    }
   ],
   "source": [
    "type(RELUvec)"
   ]
  },
  {
   "cell_type": "code",
   "execution_count": 169,
   "id": "9773b53e-c106-48ef-a459-c51d8356c1bc",
   "metadata": {},
   "outputs": [
    {
     "data": {
      "text/plain": [
       "0"
      ]
     },
     "execution_count": 169,
     "metadata": {},
     "output_type": "execute_result"
    }
   ],
   "source": [
    "RELU(-0.5)"
   ]
  },
  {
   "cell_type": "code",
   "execution_count": 170,
   "id": "d5e68f8f-9b33-4555-8557-bf7c61d140ba",
   "metadata": {},
   "outputs": [
    {
     "data": {
      "text/plain": [
       "200"
      ]
     },
     "execution_count": 170,
     "metadata": {},
     "output_type": "execute_result"
    }
   ],
   "source": [
    "RELU(200)"
   ]
  },
  {
   "cell_type": "code",
   "execution_count": 171,
   "id": "25108ffa-fbac-4422-b6c1-ba114edd619f",
   "metadata": {},
   "outputs": [
    {
     "data": {
      "text/plain": [
       "array([ 103.44002725,   17.40763833,   -2.0052063 ,  -45.87539725,\n",
       "       -134.23944749,  130.99265122,  -54.54481634,  123.04904433,\n",
       "         -1.65356592, -178.07966204])"
      ]
     },
     "execution_count": 171,
     "metadata": {},
     "output_type": "execute_result"
    }
   ],
   "source": [
    "act_vector = act_matrix.flatten()\n",
    "act_vector"
   ]
  },
  {
   "cell_type": "code",
   "execution_count": 172,
   "id": "8c4d553a-964e-4a7d-94ba-f02a9e26e50e",
   "metadata": {},
   "outputs": [
    {
     "data": {
      "text/plain": [
       "1"
      ]
     },
     "execution_count": 172,
     "metadata": {},
     "output_type": "execute_result"
    }
   ],
   "source": [
    "act_vector.ndim"
   ]
  },
  {
   "cell_type": "code",
   "execution_count": 173,
   "id": "c370a651-078a-413b-9599-9fc733310e0d",
   "metadata": {},
   "outputs": [
    {
     "data": {
      "text/plain": [
       "array([103.44002725,  17.40763833,   0.        ,   0.        ,\n",
       "         0.        , 130.99265122,   0.        , 123.04904433,\n",
       "         0.        ,   0.        ])"
      ]
     },
     "execution_count": 173,
     "metadata": {},
     "output_type": "execute_result"
    }
   ],
   "source": [
    "out_vec = RELUvec( act_vector )\n",
    "out_vec"
   ]
  },
  {
   "cell_type": "markdown",
   "id": "17fc0bb5-b378-48bb-8f17-5886112030ea",
   "metadata": {},
   "source": [
    "## Berechnung des Fehlervektors"
   ]
  },
  {
   "cell_type": "code",
   "execution_count": 177,
   "id": "fa99232d-e5b1-47a1-b5d6-68900c56dbbb",
   "metadata": {},
   "outputs": [
    {
     "data": {
      "image/png": "[encoded data removed]",
      "text/plain": [
       "<Figure size 432x288 with 1 Axes>"
      ]
     },
     "metadata": {
      "needs_background": "light"
     },
     "output_type": "display_data"
    }
   ],
   "source": [
    "plt.imshow(bild, cmap=\"gray\")\n",
    "plt.show()"
   ]
  },
  {
   "cell_type": "code",
   "execution_count": 175,
   "id": "c3186132-228c-4a2f-91e4-251b3b0d85d2",
   "metadata": {},
   "outputs": [
    {
     "data": {
      "text/plain": [
       "array([103.44002725,  17.40763833,   0.        ,   0.        ,\n",
       "         0.        , 130.99265122,   0.        , 123.04904433,\n",
       "         0.        ,   0.        ])"
      ]
     },
     "execution_count": 175,
     "metadata": {},
     "output_type": "execute_result"
    }
   ],
   "source": [
    "out_vec"
   ]
  },
  {
   "cell_type": "code",
   "execution_count": 178,
   "id": "54227110-6fe8-4b78-b0d6-746746035936",
   "metadata": {},
   "outputs": [
    {
     "data": {
      "text/plain": [
       "array([0., 0., 0., 0., 0., 1., 0., 0., 0., 0.])"
      ]
     },
     "execution_count": 178,
     "metadata": {},
     "output_type": "execute_result"
    }
   ],
   "source": [
    "t_vec = one_hot_kodierung[0]\n",
    "t_vec"
   ]
  },
  {
   "cell_type": "code",
   "execution_count": 179,
   "id": "dd72fe5f-bae7-46ec-9211-1004f6b076e7",
   "metadata": {},
   "outputs": [],
   "source": [
    "error_vec = t_vec - out_vec"
   ]
  },
  {
   "cell_type": "code",
   "execution_count": 180,
   "id": "1ec2292d-ad98-4b5b-8dee-3ef1883567f0",
   "metadata": {},
   "outputs": [
    {
     "data": {
      "text/plain": [
       "array([-103.44002725,  -17.40763833,    0.        ,    0.        ,\n",
       "          0.        , -129.99265122,    0.        , -123.04904433,\n",
       "          0.        ,    0.        ])"
      ]
     },
     "execution_count": 180,
     "metadata": {},
     "output_type": "execute_result"
    }
   ],
   "source": [
    "error_vec"
   ]
  },
  {
   "cell_type": "markdown",
   "id": "c969eb9e-c2ff-433d-ac18-0bc319817fa3",
   "metadata": {},
   "source": [
    "## Berechnung aller Gewichtsänderungen"
   ]
  },
  {
   "cell_type": "code",
   "execution_count": 181,
   "id": "ca95509f-3e7a-46b9-ad86-c0a26f3958b9",
   "metadata": {},
   "outputs": [
    {
     "data": {
      "text/plain": [
       "785"
      ]
     },
     "execution_count": 181,
     "metadata": {},
     "output_type": "execute_result"
    }
   ],
   "source": [
    "nr_inputs"
   ]
  },
  {
   "cell_type": "code",
   "execution_count": 182,
   "id": "83f77411-03f8-4264-8ee1-4b453908d8b7",
   "metadata": {},
   "outputs": [
    {
     "data": {
      "text/plain": [
       "10"
      ]
     },
     "execution_count": 182,
     "metadata": {},
     "output_type": "execute_result"
    }
   ],
   "source": [
    "nr_outputs"
   ]
  },
  {
   "cell_type": "code",
   "execution_count": 184,
   "id": "7c84b778-5c98-41b4-884a-4c75a9d5e037",
   "metadata": {},
   "outputs": [
    {
     "name": "stdout",
     "output_type": "stream",
     "text": [
      "0\n",
      "1\n",
      "2\n",
      "3\n",
      "4\n",
      "5\n",
      "6\n",
      "7\n",
      "8\n",
      "9\n"
     ]
    }
   ],
   "source": [
    "alpha = 0.001\n",
    "for out_neuron_nr in range(0, nr_outputs):\n",
    "    print(out_neuron_nr)\n",
    "    for inp_nr in range(0, nr_inputs):\n",
    "        # Perceptron learn rule:\n",
    "        delta_w = alpha * error_vec[out_neuron_nr] * v_mit_bias_input[inp_nr]\n",
    "        W[inp_nr, out_neuron_nr] += delta_w"
   ]
  },
  {
   "cell_type": "markdown",
   "id": "da9845fe-1000-46ae-aab7-e7301c8a66d4",
   "metadata": {},
   "source": [
    "# Alle Einzelteile zu einem Programm zusammensetzen"
   ]
  },
  {
   "cell_type": "code",
   "execution_count": 21,
   "id": "f53aefd9-e4f6-438d-bd4f-e65f6738c959",
   "metadata": {},
   "outputs": [],
   "source": [
    "import tensorflow\n",
    "from sklearn.preprocessing import OneHotEncoder\n",
    "import numpy as np\n",
    "\n",
    "def RELU(act):\n",
    "    if act < 0:\n",
    "        return 0\n",
    "    else:\n",
    "        return act\n",
    "    \n",
    "RELUvec = np.vectorize(RELU, otypes=[float])\n",
    "\n",
    "\n",
    "def one_hot(labels):\n",
    "    enc = OneHotEncoder()\n",
    "    enc.fit( labels.reshape(-1,1) )\n",
    "    one_hot_kodierung = enc.transform(labels.reshape(-1,1)).toarray()\n",
    "    return one_hot_kodierung\n",
    "\n",
    "\n",
    "def preprocess_data(M):\n",
    "    M = M.astype(float)\n",
    "    M = M * (1.0/255.0)\n",
    "    return M\n",
    "\n",
    "\n",
    "def prepare_data():\n",
    "    \n",
    "    mnist_dataset = tensorflow.keras.datasets.mnist\n",
    "    (x_train, y_train), (x_test, y_test) = mnist_dataset.load_data()\n",
    "    \n",
    "    x_train = preprocess_data(x_train)\n",
    "    x_test  = preprocess_data(x_test)\n",
    "    \n",
    "    y_train_one_hot = one_hot(y_train)\n",
    "    y_test_one_hot  = one_hot(y_test)\n",
    "    \n",
    "    return x_train, y_train_one_hot, \\\n",
    "           x_test, y_test_one_hot\n",
    "\n",
    "\n",
    "def perceptron_predict(image, W):\n",
    "    \n",
    "    # Inputvektor vorbereiten mit Bias Input\n",
    "    v = image.reshape(-1)\n",
    "    v_mit_bias_input = np.append(v, [1])\n",
    "    \n",
    "    # Aktivierungen der Neurone berechnen\n",
    "    inp_matrix = v_mit_bias_input.reshape(1,785)\n",
    "    act_matrix = inp_matrix @ W\n",
    "    act_vector = act_matrix.flatten()\n",
    "    \n",
    "    # Outputs der Neurone berechnen\n",
    "    out_vec = RELUvec( act_vector )\n",
    "    \n",
    "    return v_mit_bias_input, out_vec\n",
    "\n",
    "\n",
    "def perceptron_train(v_mit_bias_input, out_vec, t_vec, W):\n",
    "    \n",
    "    error_vec = t_vec - out_vec\n",
    "    \n",
    "    alpha = 0.001\n",
    "    for out_neuron_nr in range(0, nr_outputs):        \n",
    "        for inp_nr in range(0, nr_inputs):\n",
    "            # Perceptron learn rule:\n",
    "            delta_w = alpha * error_vec[out_neuron_nr] * v_mit_bias_input[inp_nr]\n",
    "            W[inp_nr, out_neuron_nr] += delta_w\n",
    "            \n",
    "            \n",
    "# 1. hole Trainingsdaten\n",
    "x_train, y_train_one_hot, x_test, y_test_one_hot = prepare_data()\n",
    "\n",
    "# 2. bereite Gewichtsmatrix vor\n",
    "nr_inputs = 28**2 + 1\n",
    "nr_outputs = 10\n",
    "low = -0.1\n",
    "high = +0.1\n",
    "W = np.random.uniform(low, high, (nr_inputs, nr_outputs) )\n",
    "\n",
    "# 3. Training des NN\n",
    "HOW_MANY_STEPS_TO_TRAIN = 1000\n",
    "for train_step_nr in range(0, HOW_MANY_STEPS_TO_TRAIN):\n",
    "    \n",
    "    # zufälliges Trainingsbild auswählen\n",
    "    sample_id = np.random.randint(0, 1)\n",
    "    image = x_train[sample_id]\n",
    "    t_vec = y_train_one_hot[sample_id]\n",
    "    \n",
    "    v_mit_bias_input, out_vec = perceptron_predict(image, W)\n",
    "    perceptron_train(v_mit_bias_input, out_vec, t_vec, W)"
   ]
  },
  {
   "cell_type": "code",
   "execution_count": null,
   "id": "d0b5ed9d-6bce-4f8f-b228-ee9c8fff3258",
   "metadata": {},
   "outputs": [],
   "source": []
  }
 ],
 "metadata": {
  "kernelspec": {
   "display_name": "Python 3 (ipykernel)",
   "language": "python",
   "name": "python3"
  },
  "language_info": {
   "codemirror_mode": {
    "name": "ipython",
    "version": 3
   },
   "file_extension": ".py",
   "mimetype": "text/x-python",
   "name": "python",
   "nbconvert_exporter": "python",
   "pygments_lexer": "ipython3",
   "version": "3.8.10"
  },
  "toc-autonumbering": true
 },
 "nbformat": 4,
 "nbformat_minor": 5
}
