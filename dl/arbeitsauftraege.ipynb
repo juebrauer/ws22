{
 "cells": [
  {
   "cell_type": "markdown",
   "id": "5ae861e8-d382-4c01-b078-10d592e96d6c",
   "metadata": {},
   "source": [
    "# A1 - Arbeitsumgebung einrichten / Erste Schritte in Python"
   ]
  },
  {
   "cell_type": "markdown",
   "id": "cd60e205-d0bd-4d74-9089-e6e508d774c4",
   "metadata": {},
   "source": [
    "## Jupyter-Notebook in der Cloud\n",
    "\n",
    "Versuchen Sie in der Cloud (im Internet) ein Jupyter-Notebook in einer Jupyter-Lab Arbeitsumgebung zu erstellen, in dem Sie einige erste Python-Kenntnisse erlernen.\n",
    "\n",
    "Nutzen Sie hierzu die Online-Dienste:\n",
    "\n",
    "[Google Colab](https://colab.research.google.com/)\n",
    "oder\n",
    "[Jupyter Notebooks von jupyter.org](https://jupyter.org/try)\n",
    "\n",
    "Erstellen Sie hier ein erstes Jupyter-Notebook und arbeiten Sie sich in die Grundlagen von Python ein wenig ein:\n",
    "\n",
    "- wie kann ich eine Ausgabe in Python erzeugen?\n",
    "- was sind Listen?\n",
    "- was sind Dictionaries?\n",
    "- erstellen Sie eine Schleife, die nach und nach einer anfänglich leeren Liste einen zufälligen Wert hinzufügt\n",
    "- schreiben Sie ein Mini-Programm in Python, das vom Benutzer sein Alter in Jahren einliest und das Alter in Tagen umgerechnet ausgibt\n",
    "- wie definiert man in Python eine Funktion?"
   ]
  },
  {
   "cell_type": "markdown",
   "id": "0f6aa16e-9ead-447a-9124-34de3f9cf86d",
   "metadata": {},
   "source": [
    "## Lokale Arbeitsumgebung: Python\n",
    "\n",
    "Installieren Sie einen aktuellen Python3-Interpreter auf Ihrem Computer, erstellen Sie ein erstes kleines Programm `first.py`, das den kompletten Text einer Textdatei ausliest und ausgibt und führen Sie das Programmm mit\n",
    "\n",
    "`python first.py`\n",
    "\n",
    "aus.\n",
    "\n",
    "Installieren Sie mittels des Paketmanagers `pip` die Pakete\n",
    "\n",
    "- Pandas\n",
    "- Matplotlib"
   ]
  },
  {
   "cell_type": "markdown",
   "id": "6660ad51-3e2a-47f8-acf6-c9d72a046a95",
   "metadata": {},
   "source": [
    "## Lokale Arbeitsumgebung: Jupyter-Lab\n",
    "\n",
    "Recherchieren Sie wie Sie Jupyter-Lab auf Ihrem Rechner installieren und starten können."
   ]
  },
  {
   "cell_type": "markdown",
   "id": "6b11afbf-ea0f-4902-be5b-7071323d4786",
   "metadata": {},
   "source": [
    "# A2 - Anwendungsgebiete von Deep Learning\n",
    "\n",
    "*Lernziel: Anwendungsbeispiele von Deep Learning kennenlernen*\n",
    "\n",
    "Starten Sie eine Recherche: welche Probleme lassen sich bereits heute mit Deep Learning (= Neuronale Netze) lösen?\n",
    "\n",
    "Suchen Sie hierzu Beispiele und halten Sie Ihre Recherche-Ergebnisse in Form von Stichworten, Bildern, Videos, etc. fest.\n",
    "\n",
    "Hinweis: Lassen Sie hierbei jedoch Beispiele aus dem Bereich Bildverarbeitung (Computer Vision) aus, um Überschneidungen mit der Veranstaltung \"Deep Learning für Computer Vision\" zu vermeiden."
   ]
  },
  {
   "cell_type": "markdown",
   "id": "cba4b535-8e6b-4da2-ad03-558d30b00486",
   "metadata": {},
   "source": [
    "# A3 - Multi-Layer-Perzeptron (MLP) Demo verstehen\n",
    "\n",
    "Unter \n",
    "\n",
    "https://playground.tensorflow.org\n",
    "\n",
    "finden Sie ein Demo eines Künstlichen Neuronalen Netzes (KNN), das im Browser läuft.\n",
    "\n",
    "In der Vorlesung erstellen wir gerade eine eigene Python-Implementierung eines einschichten Neuronalen Netzes. In dem Demo ist es möglich, ein KNN zu erzeugen, das über mehrere Schichten verfügt. Speziell ist es ein sogenanntes Multi-Layer-Perzeptron (MLP).\n",
    "\n",
    "Versuchen Sie das Demo nachzuvollziehen! Was bedeuten all die Darstellungen? Was kann man alles aus diesem kleinen Demo lernen?"
   ]
  },
  {
   "cell_type": "code",
   "execution_count": null,
   "id": "35f92d7a-cf40-4f5a-932d-883b2a2d08c2",
   "metadata": {},
   "outputs": [],
   "source": []
  }
 ],
 "metadata": {
  "kernelspec": {
   "display_name": "Python 3",
   "language": "python",
   "name": "python3"
  },
  "language_info": {
   "codemirror_mode": {
    "name": "ipython",
    "version": 3
   },
   "file_extension": ".py",
   "mimetype": "text/x-python",
   "name": "python",
   "nbconvert_exporter": "python",
   "pygments_lexer": "ipython3",
   "version": "3.8.10"
  },
  "toc-autonumbering": true
 },
 "nbformat": 4,
 "nbformat_minor": 5
}
