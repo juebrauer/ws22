{
 "cells": [
  {
   "cell_type": "markdown",
   "id": "5ae861e8-d382-4c01-b078-10d592e96d6c",
   "metadata": {},
   "source": [
    "# A1 - Arbeitsumgebung einrichten / Erste Schritte in Python"
   ]
  },
  {
   "cell_type": "markdown",
   "id": "cd60e205-d0bd-4d74-9089-e6e508d774c4",
   "metadata": {},
   "source": [
    "## Jupyter-Notebook in der Cloud\n",
    "\n",
    "Versuchen Sie in der Cloud (im Internet) ein Jupyter-Notebook in einer Jupyter-Lab Arbeitsumgebung zu erstellen, in dem Sie einige erste Python-Kenntnisse erlernen.\n",
    "\n",
    "Nutzen Sie hierzu die Online-Dienste:\n",
    "\n",
    "[Google Colab](https://colab.research.google.com/)\n",
    "oder\n",
    "[Jupyter Notebooks von jupyter.org](https://jupyter.org/try)\n",
    "\n",
    "Erstellen Sie hier ein erstes Jupyter-Notebook und arbeiten Sie sich in die Grundlagen von Python ein wenig ein:\n",
    "\n",
    "- wie kann ich eine Ausgabe in Python erzeugen?\n",
    "- was sind Listen?\n",
    "- was sind Dictionaries?\n",
    "- erstellen Sie eine Schleife, die nach und nach einer anfänglich leeren Liste einen zufälligen Wert hinzufügt\n",
    "- schreiben Sie ein Mini-Programm in Python, das vom Benutzer sein Alter in Jahren einliest und das Alter in Tagen umgerechnet ausgibt\n",
    "- wie definiert man in Python eine Funktion?"
   ]
  },
  {
   "cell_type": "markdown",
   "id": "0f6aa16e-9ead-447a-9124-34de3f9cf86d",
   "metadata": {},
   "source": [
    "## Lokale Arbeitsumgebung: Python\n",
    "\n",
    "Installieren Sie einen aktuellen Python3-Interpreter auf Ihrem Computer, erstellen Sie ein erstes kleines Programm `first.py`, das den kompletten Text einer Textdatei ausliest und ausgibt und führen Sie das Programmm mit\n",
    "\n",
    "`python first.py`\n",
    "\n",
    "aus.\n",
    "\n",
    "Installieren Sie mittels des Paketmanagers `pip` die Pakete\n",
    "\n",
    "- Pandas\n",
    "- Matplotlib"
   ]
  },
  {
   "cell_type": "markdown",
   "id": "6660ad51-3e2a-47f8-acf6-c9d72a046a95",
   "metadata": {},
   "source": [
    "## Lokale Arbeitsumgebung: Jupyter-Lab\n",
    "\n",
    "Recherchieren Sie wie Sie Jupyter-Lab auf Ihrem Rechner installieren und starten können."
   ]
  },
  {
   "cell_type": "markdown",
   "id": "20dae6da-9b33-49b7-9d74-c6ccd0bb8e96",
   "metadata": {},
   "source": [
    "# A2 - Anwendungen von Deep Learning in der Bildverarbeitung\n",
    "\n",
    "Ziel: Kennenlernen von konkreten Anwendungsfällen von Deep Learning in der Bildverarbeitung.\n",
    "\n",
    "Führen Sie eine Internet-Recherche durch: suchen Sie nach mindestens fünf konkreten Anwendungen von Deep Learning im Bereich der Bildverarbeitung.\n",
    "\n",
    "Speichern Sie sich die Ergebnisse Ihrer Recherche auf Folien in Form von Stichworten, Screenshots, Videos.\n",
    "\n",
    "Gerne dürfen Sie dann - wenn Sie möchten - uns ein paar Ergebnisse Ihrer Recherche bei der nächsten Übung vorstellen!"
   ]
  },
  {
   "cell_type": "code",
   "execution_count": null,
   "id": "91fcbcb6-2708-41d0-b4a1-25a8b91f62cb",
   "metadata": {},
   "outputs": [],
   "source": []
  }
 ],
 "metadata": {
  "kernelspec": {
   "display_name": "Python 3 (ipykernel)",
   "language": "python",
   "name": "python3"
  },
  "language_info": {
   "codemirror_mode": {
    "name": "ipython",
    "version": 3
   },
   "file_extension": ".py",
   "mimetype": "text/x-python",
   "name": "python",
   "nbconvert_exporter": "python",
   "pygments_lexer": "ipython3",
   "version": "3.8.10"
  },
  "toc-autonumbering": true
 },
 "nbformat": 4,
 "nbformat_minor": 5
}
