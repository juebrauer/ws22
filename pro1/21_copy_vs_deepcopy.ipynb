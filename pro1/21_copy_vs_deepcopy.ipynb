{
 "cells": [
  {
   "cell_type": "code",
   "execution_count": 1,
   "id": "e64f4173-e47f-4020-993d-334d1918bd5b",
   "metadata": {},
   "outputs": [],
   "source": [
    "class pizza_bestellung:\n",
    "    \n",
    "    def __init__(self, name, bestell_liste):\n",
    "        self.name = name\n",
    "        self.bestell_liste = bestell_liste"
   ]
  },
  {
   "cell_type": "code",
   "execution_count": 3,
   "id": "9217726f-34f6-43f0-a681-3ee379866f92",
   "metadata": {},
   "outputs": [],
   "source": [
    "o1 = pizza_bestellung(\"Brauer\", [3, \"Pizza Salami\", 12, \"Lasagne\"]) "
   ]
  },
  {
   "cell_type": "code",
   "execution_count": 4,
   "id": "9045ac4f-cccd-40f0-8009-c8b3f19d586b",
   "metadata": {},
   "outputs": [
    {
     "data": {
      "text/plain": [
       "'Brauer'"
      ]
     },
     "execution_count": 4,
     "metadata": {},
     "output_type": "execute_result"
    }
   ],
   "source": [
    "o1.name"
   ]
  },
  {
   "cell_type": "code",
   "execution_count": 5,
   "id": "d34f9b44-b821-4e8b-916a-1bfd11374856",
   "metadata": {},
   "outputs": [
    {
     "data": {
      "text/plain": [
       "[3, 'Pizza Salami', 12, 'Lasagne']"
      ]
     },
     "execution_count": 5,
     "metadata": {},
     "output_type": "execute_result"
    }
   ],
   "source": [
    "o1.bestell_liste"
   ]
  },
  {
   "cell_type": "code",
   "execution_count": 6,
   "id": "e30071d6-c350-4735-ad10-3ab71fe77e41",
   "metadata": {},
   "outputs": [],
   "source": [
    "import copy"
   ]
  },
  {
   "cell_type": "code",
   "execution_count": 7,
   "id": "f7a4d065-cf1f-4bcf-93a6-dcd959696467",
   "metadata": {},
   "outputs": [],
   "source": [
    "o2 = copy.copy(o1)"
   ]
  },
  {
   "cell_type": "code",
   "execution_count": 8,
   "id": "b726370f-5238-49b6-a622-9303b622baac",
   "metadata": {},
   "outputs": [
    {
     "data": {
      "text/plain": [
       "'Brauer'"
      ]
     },
     "execution_count": 8,
     "metadata": {},
     "output_type": "execute_result"
    }
   ],
   "source": [
    "o2.name"
   ]
  },
  {
   "cell_type": "code",
   "execution_count": 9,
   "id": "74f9d939-0dbe-4f07-9569-1dbc3e4c5560",
   "metadata": {},
   "outputs": [
    {
     "data": {
      "text/plain": [
       "[3, 'Pizza Salami', 12, 'Lasagne']"
      ]
     },
     "execution_count": 9,
     "metadata": {},
     "output_type": "execute_result"
    }
   ],
   "source": [
    "o2.bestell_liste"
   ]
  },
  {
   "cell_type": "code",
   "execution_count": 10,
   "id": "47d9a704-b103-4a0d-b126-4850f4a811e3",
   "metadata": {},
   "outputs": [],
   "source": [
    "o1.name = \"Maier\""
   ]
  },
  {
   "cell_type": "code",
   "execution_count": 11,
   "id": "6e97f4c9-2323-4b91-b4e5-da050ae28fc8",
   "metadata": {},
   "outputs": [
    {
     "data": {
      "text/plain": [
       "'Maier'"
      ]
     },
     "execution_count": 11,
     "metadata": {},
     "output_type": "execute_result"
    }
   ],
   "source": [
    "o1.name"
   ]
  },
  {
   "cell_type": "code",
   "execution_count": 12,
   "id": "2ba75a83-3a34-4e72-9f65-3fdec66ee63d",
   "metadata": {},
   "outputs": [
    {
     "data": {
      "text/plain": [
       "'Brauer'"
      ]
     },
     "execution_count": 12,
     "metadata": {},
     "output_type": "execute_result"
    }
   ],
   "source": [
    "o2.name"
   ]
  },
  {
   "cell_type": "code",
   "execution_count": 13,
   "id": "228874ec-cc19-4d2c-930b-f20f66bc65ce",
   "metadata": {},
   "outputs": [],
   "source": [
    "o1.bestell_liste.append(\"Cola\")"
   ]
  },
  {
   "cell_type": "code",
   "execution_count": 14,
   "id": "e4ab3ef5-6fc2-4030-b2b1-d386b2ffda39",
   "metadata": {},
   "outputs": [
    {
     "data": {
      "text/plain": [
       "[3, 'Pizza Salami', 12, 'Lasagne', 'Cola']"
      ]
     },
     "execution_count": 14,
     "metadata": {},
     "output_type": "execute_result"
    }
   ],
   "source": [
    "o1.bestell_liste"
   ]
  },
  {
   "cell_type": "code",
   "execution_count": 15,
   "id": "4b6dc2b4-43fa-479b-8c81-71bab633af38",
   "metadata": {},
   "outputs": [
    {
     "data": {
      "text/plain": [
       "'Brauer'"
      ]
     },
     "execution_count": 15,
     "metadata": {},
     "output_type": "execute_result"
    }
   ],
   "source": [
    "o2.name"
   ]
  },
  {
   "cell_type": "code",
   "execution_count": 16,
   "id": "6ca2e04f-43d7-4541-8bc7-b46dccbba3e7",
   "metadata": {},
   "outputs": [
    {
     "data": {
      "text/plain": [
       "[3, 'Pizza Salami', 12, 'Lasagne', 'Cola']"
      ]
     },
     "execution_count": 16,
     "metadata": {},
     "output_type": "execute_result"
    }
   ],
   "source": [
    "o2.bestell_liste"
   ]
  },
  {
   "cell_type": "code",
   "execution_count": 17,
   "id": "dcf6b1b9-6754-4fc3-8a17-222d13eb9204",
   "metadata": {},
   "outputs": [],
   "source": [
    "o3 = copy.deepcopy(o1)"
   ]
  },
  {
   "cell_type": "code",
   "execution_count": 18,
   "id": "5e100675-62e8-47bd-8119-8d7a4cfe7330",
   "metadata": {},
   "outputs": [
    {
     "data": {
      "text/plain": [
       "'Maier'"
      ]
     },
     "execution_count": 18,
     "metadata": {},
     "output_type": "execute_result"
    }
   ],
   "source": [
    "o3.name"
   ]
  },
  {
   "cell_type": "code",
   "execution_count": 19,
   "id": "16cccdf8-bbeb-4eda-ae06-384fdb8e7efc",
   "metadata": {},
   "outputs": [
    {
     "data": {
      "text/plain": [
       "[3, 'Pizza Salami', 12, 'Lasagne', 'Cola']"
      ]
     },
     "execution_count": 19,
     "metadata": {},
     "output_type": "execute_result"
    }
   ],
   "source": [
    "o3.bestell_liste"
   ]
  },
  {
   "cell_type": "code",
   "execution_count": 20,
   "id": "5d62fe6e-5f0b-47f4-b281-9171fdb7c34d",
   "metadata": {},
   "outputs": [],
   "source": [
    "o1.bestell_liste.append(\"Eis\")"
   ]
  },
  {
   "cell_type": "code",
   "execution_count": 21,
   "id": "dc7ff173-077b-4e3e-86b6-019a05516543",
   "metadata": {},
   "outputs": [
    {
     "data": {
      "text/plain": [
       "[3, 'Pizza Salami', 12, 'Lasagne', 'Cola', 'Eis']"
      ]
     },
     "execution_count": 21,
     "metadata": {},
     "output_type": "execute_result"
    }
   ],
   "source": [
    "o1.bestell_liste"
   ]
  },
  {
   "cell_type": "code",
   "execution_count": 22,
   "id": "9591e10f-efc7-40b2-9b16-aab6860f6158",
   "metadata": {},
   "outputs": [
    {
     "data": {
      "text/plain": [
       "[3, 'Pizza Salami', 12, 'Lasagne', 'Cola']"
      ]
     },
     "execution_count": 22,
     "metadata": {},
     "output_type": "execute_result"
    }
   ],
   "source": [
    "o3.bestell_liste"
   ]
  },
  {
   "cell_type": "code",
   "execution_count": null,
   "id": "37528c35-1b6d-4892-b976-eb53feb5376b",
   "metadata": {},
   "outputs": [],
   "source": []
  }
 ],
 "metadata": {
  "kernelspec": {
   "display_name": "Python 3 (ipykernel)",
   "language": "python",
   "name": "python3"
  },
  "language_info": {
   "codemirror_mode": {
    "name": "ipython",
    "version": 3
   },
   "file_extension": ".py",
   "mimetype": "text/x-python",
   "name": "python",
   "nbconvert_exporter": "python",
   "pygments_lexer": "ipython3",
   "version": "3.8.10"
  }
 },
 "nbformat": 4,
 "nbformat_minor": 5
}
